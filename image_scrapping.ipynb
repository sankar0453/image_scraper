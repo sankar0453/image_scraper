{
 "cells": [
  {
   "cell_type": "code",
   "execution_count": 6,
   "id": "bf7cad08",
   "metadata": {},
   "outputs": [
    {
     "name": "stdout",
     "output_type": "stream",
     "text": [
      "Requirement already satisfied: requests in c:\\users\\sanka\\anaconda3\\lib\\site-packages (2.28.1)\n",
      "Requirement already satisfied: idna<4,>=2.5 in c:\\users\\sanka\\anaconda3\\lib\\site-packages (from requests) (3.4)\n",
      "Requirement already satisfied: urllib3<1.27,>=1.21.1 in c:\\users\\sanka\\anaconda3\\lib\\site-packages (from requests) (1.26.14)\n",
      "Requirement already satisfied: certifi>=2017.4.17 in c:\\users\\sanka\\anaconda3\\lib\\site-packages (from requests) (2022.12.7)\n",
      "Requirement already satisfied: charset-normalizer<3,>=2 in c:\\users\\sanka\\anaconda3\\lib\\site-packages (from requests) (2.0.4)\n"
     ]
    }
   ],
   "source": [
    "# !pip install bs4\n",
    "!pip install requests\n"
   ]
  },
  {
   "cell_type": "code",
   "execution_count": 11,
   "id": "fac64ac6",
   "metadata": {},
   "outputs": [],
   "source": [
    "import logging\n",
    "from bs4 import BeautifulSoup\n",
    "from urllib.request import urlopen  \n",
    "import requests\n",
    "import os\n"
   ]
  },
  {
   "cell_type": "code",
   "execution_count": 12,
   "id": "86fd55a0",
   "metadata": {},
   "outputs": [],
   "source": [
    "save_dir=\"images/\"\n",
    "if not os.path.exists(save_dir):\n",
    "    os.mkdir(save_dir)"
   ]
  },
  {
   "cell_type": "code",
   "execution_count": 16,
   "id": "9fdc3a93",
   "metadata": {},
   "outputs": [],
   "source": [
    "query=\"chandrayaan 3\"\n",
    "url=f\"https://www.google.com/search?q={query}&tbm=isch&ved=2ahUKEwiL9cnw7byAAxX17DgGHaYuCAQQ2-cCegQIABAA&oq=chandrayaan+3&gs_lcp=CgNpbWcQDFAAWABgAGgAcAB4AIABAIgBAJIBAJgBAKoBC2d3cy13aXotaW1n&sclient=img&ei=DLbJZIu_B_XZ4-EPpt2gIA&bih=707&biw=1536&rlz=1C1CHBF_enIN962IN962\""
   ]
  },
  {
   "cell_type": "code",
   "execution_count": 17,
   "id": "1fbb5de6",
   "metadata": {},
   "outputs": [
    {
     "data": {
      "text/plain": [
       "<Response [200]>"
      ]
     },
     "execution_count": 17,
     "metadata": {},
     "output_type": "execute_result"
    }
   ],
   "source": [
    "response=requests.get(url)\n",
    "response"
   ]
  },
  {
   "cell_type": "code",
   "execution_count": 21,
   "id": "3b290fd2",
   "metadata": {},
   "outputs": [],
   "source": [
    "soup=BeautifulSoup(response.content,\"html.parser\")"
   ]
  },
  {
   "cell_type": "code",
   "execution_count": 24,
   "id": "d6d28c3f",
   "metadata": {},
   "outputs": [
    {
     "data": {
      "text/plain": [
       "[<img alt=\"\" class=\"yWs4tf\" src=\"https://encrypted-tbn0.gstatic.com/images?q=tbn:ANd9GcQ9bKxTymHDFigFiKC05JBy5nptalaJ4H4uxWYCGj1YgAbePmDaWtjYsTCK7g&amp;s\"/>,\n",
       " <img alt=\"\" class=\"yWs4tf\" src=\"https://encrypted-tbn0.gstatic.com/images?q=tbn:ANd9GcRhUFE-KhL5MlfsNmeqrAEc19lvg9mMzAXd2R0r57mcQqvLyxI3ss_unxUCBls&amp;s\"/>,\n",
       " <img alt=\"\" class=\"yWs4tf\" src=\"https://encrypted-tbn0.gstatic.com/images?q=tbn:ANd9GcR10lgRZxDoWiqi289RYgwRhzj3yBICvuTubIrq0ubD84VqvosLjEy4dwys-Gc&amp;s\"/>,\n",
       " <img alt=\"\" class=\"yWs4tf\" src=\"https://encrypted-tbn0.gstatic.com/images?q=tbn:ANd9GcSXh5_nQGzpa1YciAfTi94oilox64H8Twx3qPvHjoj4icI2BTENeqKXVPa9k1k&amp;s\"/>,\n",
       " <img alt=\"\" class=\"yWs4tf\" src=\"https://encrypted-tbn0.gstatic.com/images?q=tbn:ANd9GcSe--woDJIgDJSOjaqC8N88oIeBWN5EYw5Mlbf316NpLLwHUNTaoK9ZY_7sqQ&amp;s\"/>,\n",
       " <img alt=\"\" class=\"yWs4tf\" src=\"https://encrypted-tbn0.gstatic.com/images?q=tbn:ANd9GcRVmugFULoWbq_cG0L9Yy1XA4xvxxHURRfpLMDBWyc9ENR2NmgtE0CysTfasw&amp;s\"/>,\n",
       " <img alt=\"\" class=\"yWs4tf\" src=\"https://encrypted-tbn0.gstatic.com/images?q=tbn:ANd9GcRkTZAzCPwU6xwX7lAfh88kJ4f99vXxqsrl6--0ViV1B1X9u1XeVNbk1or7KsQ&amp;s\"/>,\n",
       " <img alt=\"\" class=\"yWs4tf\" src=\"https://encrypted-tbn0.gstatic.com/images?q=tbn:ANd9GcSjDlyc8BuQbeLlq0tmELdAfx2bjOXKN-giJZyCmjjVkYtGauRtq-vQV9n3moQ&amp;s\"/>,\n",
       " <img alt=\"\" class=\"yWs4tf\" src=\"https://encrypted-tbn0.gstatic.com/images?q=tbn:ANd9GcQbNuC2EdRiLYM3ddKITwf-OmHw7RHVIn9HL6-wyczZZSfdM0gtvKvE_HNn&amp;s\"/>,\n",
       " <img alt=\"\" class=\"yWs4tf\" src=\"https://encrypted-tbn0.gstatic.com/images?q=tbn:ANd9GcQsXdaPUm5KoXBhzqifRQn45SG5mEb1Uvp8PZW1I_e4O0GkVi5b0_SSLIvhwg&amp;s\"/>,\n",
       " <img alt=\"\" class=\"yWs4tf\" src=\"https://encrypted-tbn0.gstatic.com/images?q=tbn:ANd9GcTyzdgvRj_GuEW3DkyZFNSYd9ljJ3g0OfvqtGy6tlom52hoBwVwxIUd6pA8sA&amp;s\"/>,\n",
       " <img alt=\"\" class=\"yWs4tf\" src=\"https://encrypted-tbn0.gstatic.com/images?q=tbn:ANd9GcRqCIeHQ3Rk9DwJ4POzcVuTgsLrD4hBFAAcLI9INm_OUhCmqwRqjUCgQhgTCA&amp;s\"/>,\n",
       " <img alt=\"\" class=\"yWs4tf\" src=\"https://encrypted-tbn0.gstatic.com/images?q=tbn:ANd9GcSFprw8t-q16jMvhNp-czp2bJ64OtS2QaelaZkgTM0nE9SaH3SwLUpKtDwJrKw&amp;s\"/>,\n",
       " <img alt=\"\" class=\"yWs4tf\" src=\"https://encrypted-tbn0.gstatic.com/images?q=tbn:ANd9GcS6Ma3G81mbTrQnHVU28J2Nx4is-d2s3E33xpfp7P8beg_M3SbI7TYRaFn0nRc&amp;s\"/>,\n",
       " <img alt=\"\" class=\"yWs4tf\" src=\"https://encrypted-tbn0.gstatic.com/images?q=tbn:ANd9GcSVgaVnNFPZMTAf_h01j3uJNYcPSy5lWLZZCMM_LJD9IW5iojtSJte-V5L-aQ&amp;s\"/>,\n",
       " <img alt=\"\" class=\"yWs4tf\" src=\"https://encrypted-tbn0.gstatic.com/images?q=tbn:ANd9GcTjBgHU-Rjs6ud63c5IECSiE7r6FPGN10Kf4yfzB3ZIKk6rns6E0AL-QVLIfDI&amp;s\"/>,\n",
       " <img alt=\"\" class=\"yWs4tf\" src=\"https://encrypted-tbn0.gstatic.com/images?q=tbn:ANd9GcTpTTOUCMCP8-Khf6mUEKgE1AGYD8VCRcRegvONCG1UNkdZvmAg5KfTe-GVDl0&amp;s\"/>,\n",
       " <img alt=\"\" class=\"yWs4tf\" src=\"https://encrypted-tbn0.gstatic.com/images?q=tbn:ANd9GcQt7cnTP6cSpVBtJSs5tUQ6nNDupSbdrUgJJK1jZLSEYqZyBs_DODn-4c_I4w&amp;s\"/>,\n",
       " <img alt=\"\" class=\"yWs4tf\" src=\"https://encrypted-tbn0.gstatic.com/images?q=tbn:ANd9GcSsZrwZlorAaeBLqQINH1a-15bM9eHq_XTTdfxqWXL7h5M8PlycepLanVO6AQ&amp;s\"/>,\n",
       " <img alt=\"\" class=\"yWs4tf\" src=\"https://encrypted-tbn0.gstatic.com/images?q=tbn:ANd9GcQB4yvcye3MI7oy_QzmNf1aN4hJ-0Hk_PhgrVJNi1VJLJn9s_WORxR_xSV4qQ&amp;s\"/>]"
      ]
     },
     "execution_count": 24,
     "metadata": {},
     "output_type": "execute_result"
    }
   ],
   "source": [
    "image_tags=soup.find_all(\"img\")\n",
    "del image_tags[0]\n",
    "image_tags"
   ]
  },
  {
   "cell_type": "code",
   "execution_count": 25,
   "id": "f4eb043d",
   "metadata": {},
   "outputs": [
    {
     "data": {
      "text/plain": [
       "20"
      ]
     },
     "execution_count": 25,
     "metadata": {},
     "output_type": "execute_result"
    }
   ],
   "source": [
    "len(image_tags)"
   ]
  },
  {
   "cell_type": "code",
   "execution_count": 38,
   "id": "865eeb2c",
   "metadata": {},
   "outputs": [],
   "source": [
    "for i in image_tags:\n",
    "    image_url=i['src']\n",
    "    image_data=requests.get(image_url).content\n",
    "    with open(os.path.join(save_dir,f\"{query}_{image_tags.index(i)}.jpg\"),'wb')as f:\n",
    "        f.write(image_data)"
   ]
  },
  {
   "cell_type": "code",
   "execution_count": null,
   "id": "3a90d91a",
   "metadata": {},
   "outputs": [],
   "source": []
  },
  {
   "cell_type": "code",
   "execution_count": null,
   "id": "d76b7968",
   "metadata": {},
   "outputs": [],
   "source": []
  },
  {
   "cell_type": "code",
   "execution_count": null,
   "id": "e7ec75aa",
   "metadata": {},
   "outputs": [],
   "source": []
  },
  {
   "cell_type": "code",
   "execution_count": null,
   "id": "edebfcf1",
   "metadata": {},
   "outputs": [],
   "source": []
  }
 ],
 "metadata": {
  "kernelspec": {
   "display_name": "Python 3 (ipykernel)",
   "language": "python",
   "name": "python3"
  },
  "language_info": {
   "codemirror_mode": {
    "name": "ipython",
    "version": 3
   },
   "file_extension": ".py",
   "mimetype": "text/x-python",
   "name": "python",
   "nbconvert_exporter": "python",
   "pygments_lexer": "ipython3",
   "version": "3.10.9"
  }
 },
 "nbformat": 4,
 "nbformat_minor": 5
}
